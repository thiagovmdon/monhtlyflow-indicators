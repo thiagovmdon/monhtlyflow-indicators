{
 "cells": [
  {
   "cell_type": "markdown",
   "id": "d0edc9e0",
   "metadata": {},
   "source": [
    "### Code used for converting the array matrix results into GeoTIFs for Remote Sensing visualizations\n",
    "\n",
    "#### After the analysis using the matrices in Python, the results might be explored in a GIS format, therefore this code provides the further conversion of the main results from the ARRAY format into GeoTif\n",
    "\n",
    "\n",
    "Developed by: Thiago Victor Medeiros do Nascimento"
   ]
  },
  {
   "cell_type": "code",
   "execution_count": 13,
   "id": "dcb4e3f0",
   "metadata": {},
   "outputs": [],
   "source": [
    "from pcraster import *\n",
    "import numpy as np\n",
    "from osgeo import gdal, gdalconst\n",
    "from osgeo import gdal_array\n",
    "from osgeo import osr\n",
    "import matplotlib.pylab as plt\n",
    "import subprocess\n",
    "import glob,os\n",
    "import pandas as pd"
   ]
  },
  {
   "cell_type": "code",
   "execution_count": 10,
   "id": "802313b2",
   "metadata": {},
   "outputs": [
    {
     "name": "stdout",
     "output_type": "stream",
     "text": [
      "These are the main information for our rasters: (-118821.6376, 100.0, 0.0, 418121.532, 0.0, -100.0)\n",
      "The number of rows is: 7140 and the number of columns is: 6820\n"
     ]
    }
   ],
   "source": [
    "# This is a clone map used just to import the geotrasnformation information for the rasters creation.\n",
    "pathclone =r'D:\\pythonDATA\\AquadaptTemez\\rastermapaccum\\T1accum.map'\n",
    "RasterClone = gdal.Open(pathclone)\n",
    "\n",
    "geotransform = RasterClone.GetGeoTransform()\n",
    "\n",
    "ncols = RasterClone.RasterXSize\n",
    "nrows = RasterClone.RasterYSize\n",
    "numtotal = ncols*nrows\n",
    "xmin = RasterClone.GetGeoTransform()[0]\n",
    "ymax = RasterClone.GetGeoTransform()[3]\n",
    "xres = RasterClone.GetGeoTransform()[1]\n",
    "yres = RasterClone.GetGeoTransform()[5]\n",
    "xmax = xmin + xres*ncols\n",
    "ymin = ymax - xres*nrows\n",
    "\n",
    "print(\"These are the main information for our rasters:\", geotransform)\n",
    "print(\"The number of rows is:\", nrows, \"and the number of columns is:\", ncols)"
   ]
  },
  {
   "cell_type": "code",
   "execution_count": 21,
   "id": "8d60c745",
   "metadata": {},
   "outputs": [],
   "source": [
    "# Importation of the arrays used for the calculations::\n",
    "\n",
    "path =r'C:\\Users\\User\\OneDrive\\IST\\RESEARCH\\python\\flowindicatorsmap\\resMax.csv'\n",
    "resmatrix=pd.read_table(path, header = None)   \n",
    "    \n",
    "resarray = np.array(resmatrix)\n",
    "resarray = resarray.T\n",
    "#mapfilterarrayres = np.reshape(mapfilterarray, (1, numtotal))"
   ]
  },
  {
   "cell_type": "code",
   "execution_count": 11,
   "id": "dccc3484",
   "metadata": {},
   "outputs": [
    {
     "data": {
      "text/plain": [
       "array([[nan, nan, nan, ..., nan, nan, nan]], dtype=float32)"
      ]
     },
     "execution_count": 11,
     "metadata": {},
     "output_type": "execute_result"
    }
   ],
   "source": [
    "# At this point we have to recriate the complete array, since it was filtered for the computation of the indicators, then:\n",
    "\n",
    "# First we read our previous used filter map:\n",
    "pathfilter =r'C:\\Users\\User\\OneDrive\\IST\\RESEARCH\\python\\flowindicatorsmap\\rivernetworkabove5000mm2.map'\n",
    "mapfilter = readmap(pathfilter)\n",
    "Rastermapfilter = gdal.Open(pathfilter)\n",
    "mapfilterarray = pcr_as_numpy(mapfilter)\n",
    "mapfilterarray\n",
    "mapfilterarray[mapfilterarray < 1 ] = np.nan\n",
    "\n",
    "# We need additionally to reshape our filter:\n",
    "mapfilterarrayres = np.reshape(mapfilterarray, (1, numtotal))"
   ]
  },
  {
   "cell_type": "code",
   "execution_count": 29,
   "id": "ccb6de19",
   "metadata": {},
   "outputs": [],
   "source": [
    "# We first create a matrix with the total dimensions of the original raster:\n",
    "resultarraytotal = np.zeros((1,numtotal),dtype=np.float16)"
   ]
  },
  {
   "cell_type": "code",
   "execution_count": 43,
   "id": "b366862c",
   "metadata": {},
   "outputs": [],
   "source": [
    "# Now we reasign our data for the non NaNs of this matrix, an reshape it for a matrix:\n",
    "resultarraytotal[~np.isnan(mapfilterarrayres)] = resarray[0,:]\n",
    "\n",
    "resultmatrixtotal = np.reshape(resultarraytotal, (nrows, ncols))"
   ]
  },
  {
   "cell_type": "code",
   "execution_count": 45,
   "id": "d086e650",
   "metadata": {},
   "outputs": [
    {
     "data": {
      "text/plain": [
       "(7140, 6820)"
      ]
     },
     "execution_count": 45,
     "metadata": {},
     "output_type": "execute_result"
    }
   ],
   "source": [
    "# Just to check it out:\n",
    "resultmatrixtotal.shape"
   ]
  },
  {
   "cell_type": "code",
   "execution_count": 47,
   "id": "c19680be",
   "metadata": {},
   "outputs": [],
   "source": [
    "# Finally we write down the results as a Raster file (Tif)\n",
    "pathoutput = r'D:\\pythonDATA\\AquadaptTemez\\myraster.tif'\n",
    "\n",
    "output_raster = gdal.GetDriverByName('GTiff').Create(pathoutput,ncols, nrows, 1 ,gdal.GDT_Float32)  # Open the file\n",
    "output_raster.SetGeoTransform(geotransform)  # Specify its coordinates\n",
    "srs = osr.SpatialReference()                 # Establish its coordinate encoding\n",
    "srs.ImportFromEPSG(3763)                                                                                                               \n",
    "output_raster.SetProjection( srs.ExportToWkt() )   # Exports the coordinate system \n",
    "                                                   # to the file\n",
    "output_raster.GetRasterBand(1).WriteArray(resultmatrixtotal)   # Writes my array to the raster\n",
    "\n",
    "output_raster.FlushCache()"
   ]
  },
  {
   "cell_type": "code",
   "execution_count": null,
   "id": "d9348419",
   "metadata": {},
   "outputs": [],
   "source": []
  }
 ],
 "metadata": {
  "kernelspec": {
   "display_name": "Python 3 (ipykernel)",
   "language": "python",
   "name": "python3"
  },
  "language_info": {
   "codemirror_mode": {
    "name": "ipython",
    "version": 3
   },
   "file_extension": ".py",
   "mimetype": "text/x-python",
   "name": "python",
   "nbconvert_exporter": "python",
   "pygments_lexer": "ipython3",
   "version": "3.10.2"
  }
 },
 "nbformat": 4,
 "nbformat_minor": 5
}
