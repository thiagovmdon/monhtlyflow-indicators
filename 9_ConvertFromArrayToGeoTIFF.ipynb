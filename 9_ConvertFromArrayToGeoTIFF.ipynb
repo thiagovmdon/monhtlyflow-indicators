{
 "cells": [
  {
   "cell_type": "markdown",
   "id": "d0edc9e0",
   "metadata": {},
   "source": [
    "### Code used for converting the array matrix results into GeoTIFs for Remote Sensing visualizations\n",
    "\n",
    "#### After the analysis using the matrices in Python, the results might be explored in a GIS format, therefore this code provides the further conversion of the main results from the ARRAY format into GeoTif\n",
    "\n",
    "\n",
    "Developed by: Thiago Victor Medeiros do Nascimento"
   ]
  },
  {
   "cell_type": "code",
   "execution_count": 1,
   "id": "dcb4e3f0",
   "metadata": {},
   "outputs": [],
   "source": [
    "from pcraster import *\n",
    "import numpy as np\n",
    "from osgeo import gdal, gdalconst\n",
    "from osgeo import gdal_array\n",
    "from osgeo import osr\n",
    "import matplotlib.pylab as plt\n",
    "import subprocess\n",
    "import glob,os\n",
    "import pandas as pd"
   ]
  },
  {
   "cell_type": "code",
   "execution_count": 2,
   "id": "802313b2",
   "metadata": {},
   "outputs": [
    {
     "name": "stdout",
     "output_type": "stream",
     "text": [
      "These are the main information for our rasters: (-118821.6376, 100.0, 0.0, 418121.532, 0.0, -100.0)\n",
      "The number of rows is: 7140 and the number of columns is: 6820\n"
     ]
    }
   ],
   "source": [
    "# This is a clone map used just to import the geotrasnformation information for the rasters creation.\n",
    "pathclone =r'D:\\pythonDATA\\AquadaptTemez\\rastermapaccum\\T1accum.map'\n",
    "RasterClone = gdal.Open(pathclone)\n",
    "\n",
    "geotransform = RasterClone.GetGeoTransform()\n",
    "\n",
    "ncols = RasterClone.RasterXSize\n",
    "nrows = RasterClone.RasterYSize\n",
    "numtotal = ncols*nrows\n",
    "xmin = RasterClone.GetGeoTransform()[0]\n",
    "ymax = RasterClone.GetGeoTransform()[3]\n",
    "xres = RasterClone.GetGeoTransform()[1]\n",
    "yres = RasterClone.GetGeoTransform()[5]\n",
    "xmax = xmin + xres*ncols\n",
    "ymin = ymax - xres*nrows\n",
    "\n",
    "print(\"These are the main information for our rasters:\", geotransform)\n",
    "print(\"The number of rows is:\", nrows, \"and the number of columns is:\", ncols)"
   ]
  },
  {
   "cell_type": "code",
   "execution_count": 21,
   "id": "57ac3c8d",
   "metadata": {},
   "outputs": [
    {
     "data": {
      "text/plain": [
       "array([[2.5, 2.5, 2.5, ..., 4. , 4. , 4. ]])"
      ]
     },
     "execution_count": 21,
     "metadata": {},
     "output_type": "execute_result"
    }
   ],
   "source": [
    "# Importation of the arrays used for the calculations::\n",
    "\n",
    "path =r'C:\\Users\\User\\OneDrive\\IST\\RESEARCH\\1_flowindicators\\gis\\csvs\\nummonzerrunperc25.csv'\n",
    "resmatrix=pd.read_table(path, header = None)   \n",
    "    \n",
    "resarray = np.array(resmatrix)\n",
    "resarray = resarray.T\n",
    "\n",
    "resarray"
   ]
  },
  {
   "cell_type": "code",
   "execution_count": 22,
   "id": "ee6f4797",
   "metadata": {},
   "outputs": [
    {
     "data": {
      "text/html": [
       "<div>\n",
       "<style scoped>\n",
       "    .dataframe tbody tr th:only-of-type {\n",
       "        vertical-align: middle;\n",
       "    }\n",
       "\n",
       "    .dataframe tbody tr th {\n",
       "        vertical-align: top;\n",
       "    }\n",
       "\n",
       "    .dataframe thead th {\n",
       "        text-align: right;\n",
       "    }\n",
       "</style>\n",
       "<table border=\"1\" class=\"dataframe\">\n",
       "  <thead>\n",
       "    <tr style=\"text-align: right;\">\n",
       "      <th></th>\n",
       "      <th>0</th>\n",
       "    </tr>\n",
       "  </thead>\n",
       "  <tbody>\n",
       "    <tr>\n",
       "      <th>0</th>\n",
       "      <td>2.5</td>\n",
       "    </tr>\n",
       "    <tr>\n",
       "      <th>1</th>\n",
       "      <td>2.5</td>\n",
       "    </tr>\n",
       "    <tr>\n",
       "      <th>2</th>\n",
       "      <td>2.5</td>\n",
       "    </tr>\n",
       "    <tr>\n",
       "      <th>3</th>\n",
       "      <td>2.5</td>\n",
       "    </tr>\n",
       "    <tr>\n",
       "      <th>4</th>\n",
       "      <td>2.5</td>\n",
       "    </tr>\n",
       "    <tr>\n",
       "      <th>...</th>\n",
       "      <td>...</td>\n",
       "    </tr>\n",
       "    <tr>\n",
       "      <th>578970</th>\n",
       "      <td>4.0</td>\n",
       "    </tr>\n",
       "    <tr>\n",
       "      <th>578971</th>\n",
       "      <td>4.0</td>\n",
       "    </tr>\n",
       "    <tr>\n",
       "      <th>578972</th>\n",
       "      <td>4.0</td>\n",
       "    </tr>\n",
       "    <tr>\n",
       "      <th>578973</th>\n",
       "      <td>4.0</td>\n",
       "    </tr>\n",
       "    <tr>\n",
       "      <th>578974</th>\n",
       "      <td>4.0</td>\n",
       "    </tr>\n",
       "  </tbody>\n",
       "</table>\n",
       "<p>578975 rows × 1 columns</p>\n",
       "</div>"
      ],
      "text/plain": [
       "          0\n",
       "0       2.5\n",
       "1       2.5\n",
       "2       2.5\n",
       "3       2.5\n",
       "4       2.5\n",
       "...     ...\n",
       "578970  4.0\n",
       "578971  4.0\n",
       "578972  4.0\n",
       "578973  4.0\n",
       "578974  4.0\n",
       "\n",
       "[578975 rows x 1 columns]"
      ]
     },
     "execution_count": 22,
     "metadata": {},
     "output_type": "execute_result"
    }
   ],
   "source": [
    "resmatrix"
   ]
  },
  {
   "cell_type": "code",
   "execution_count": 23,
   "id": "39160c02",
   "metadata": {},
   "outputs": [
    {
     "data": {
      "text/plain": [
       "11.0"
      ]
     },
     "execution_count": 23,
     "metadata": {},
     "output_type": "execute_result"
    }
   ],
   "source": [
    "np.nanmax(resmatrix)"
   ]
  },
  {
   "cell_type": "code",
   "execution_count": 24,
   "id": "ff101adc",
   "metadata": {},
   "outputs": [],
   "source": [
    "# At this point we have to recriate the complete array, since it was filtered for the computation of the indicators, then:\n",
    "\n",
    "# First we read our previous used filter map:\n",
    "#pathfilter =r'C:\\Users\\User\\OneDrive\\IST\\RESEARCH\\python\\flowindicatorsmap\\rivernetworkabove50000mmclipped2.map'\n",
    "pathfilter =r'C:\\Users\\User\\OneDrive\\IST\\RESEARCH\\python\\flowindicatorsmap\\rivernetworkabove100000mmclipped.map'\n",
    "\n",
    "# MK, 2,4 and 5: 50,000\n",
    "# 1 and 3: 100,000\n",
    "\n",
    "mapfilter = readmap(pathfilter)\n",
    "Rastermapfilter = gdal.Open(pathfilter)\n",
    "mapfilterarray = pcr_as_numpy(mapfilter)\n",
    "mapfilterarray\n",
    "mapfilterarray[mapfilterarray < 1 ] = np.nan\n",
    "\n",
    "# We need additionally to reshape our filter:\n",
    "mapfilterarrayres = np.reshape(mapfilterarray, (1, numtotal))"
   ]
  },
  {
   "cell_type": "code",
   "execution_count": 25,
   "id": "8dcda8ad",
   "metadata": {},
   "outputs": [],
   "source": [
    "# We first create a matrix with the total dimensions of the original raster:\n",
    "resultarraytotal = np.zeros((1,numtotal),dtype=np.float32)\n",
    "resultarraytotal[:,:] = np.nan\n",
    "#resultarraytotal[:,:] = -9999 # We can use -9999 as NaN values"
   ]
  },
  {
   "cell_type": "code",
   "execution_count": 26,
   "id": "626a4b4f",
   "metadata": {},
   "outputs": [],
   "source": [
    "# Now we reasign our data for the non NaNs of this matrix, an reshape it for a matrix:\n",
    "resultarraytotal[~np.isnan(mapfilterarrayres)] = resarray[0,:]\n",
    "\n",
    "resultmatrixtotal = np.reshape(resultarraytotal, (nrows, ncols))"
   ]
  },
  {
   "cell_type": "code",
   "execution_count": 27,
   "id": "bfe9546d",
   "metadata": {},
   "outputs": [
    {
     "data": {
      "text/plain": [
       "(7140, 6820)"
      ]
     },
     "execution_count": 27,
     "metadata": {},
     "output_type": "execute_result"
    }
   ],
   "source": [
    "# Just to check it out:\n",
    "resultmatrixtotal.shape"
   ]
  },
  {
   "cell_type": "code",
   "execution_count": 28,
   "id": "c19680be",
   "metadata": {},
   "outputs": [],
   "source": [
    "# We create a function to write down the MATRIX into a Raster:\n",
    "\n",
    "def WriteFromArrayToGTIFF(resultmatrixtotal, geotransform, pathoutput):\n",
    "\n",
    "    output_raster = gdal.GetDriverByName('GTiff').Create(pathoutput,ncols, nrows, 1 ,gdal.GDT_Float32)  # Open the file\n",
    "    output_raster.SetGeoTransform(geotransform)  # Specify its coordinates\n",
    "    srs = osr.SpatialReference()                 # Establish its coordinate encoding\n",
    "    srs.ImportFromEPSG(3763)                                                                                                               \n",
    "    output_raster.SetProjection( srs.ExportToWkt() )   # Exports the coordinate system \n",
    "                                                   # to the file\n",
    "    output_raster.GetRasterBand(1).WriteArray(resultmatrixtotal)   # Writes my array to the raster\n",
    "\n",
    "    output_raster.FlushCache()"
   ]
  },
  {
   "cell_type": "code",
   "execution_count": 29,
   "id": "3650d4fb",
   "metadata": {},
   "outputs": [],
   "source": [
    "# Finally we write down the results as a Raster file (Tif)\n",
    "pathoutput = r'C:\\Users\\User\\OneDrive\\IST\\RESEARCH\\1_flowindicators\\gis\\rasters\\nummonzerrunperc25.tif'\n",
    "WriteFromArrayToGTIFF(resultmatrixtotal, geotransform, pathoutput)"
   ]
  },
  {
   "cell_type": "code",
   "execution_count": null,
   "id": "d1a3b3e8",
   "metadata": {},
   "outputs": [],
   "source": []
  },
  {
   "cell_type": "code",
   "execution_count": null,
   "id": "a1bd6f86",
   "metadata": {},
   "outputs": [],
   "source": []
  }
 ],
 "metadata": {
  "kernelspec": {
   "display_name": "Python 3 (ipykernel)",
   "language": "python",
   "name": "python3"
  },
  "language_info": {
   "codemirror_mode": {
    "name": "ipython",
    "version": 3
   },
   "file_extension": ".py",
   "mimetype": "text/x-python",
   "name": "python",
   "nbconvert_exporter": "python",
   "pygments_lexer": "ipython3",
   "version": "3.10.2"
  }
 },
 "nbformat": 4,
 "nbformat_minor": 5
}
