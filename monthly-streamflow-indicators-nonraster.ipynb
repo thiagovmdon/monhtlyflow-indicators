{
 "cells": [
  {
   "cell_type": "markdown",
   "id": "c0595023",
   "metadata": {},
   "source": [
    "### Monthly streamflow indicators computation considering natural versus modified conditions:\n",
    "\n",
    "#### This code provide the automatic calculation of the Monthly Hydrological Indicators for river streamflow. It follows the methodology proposed by Pumo et al. (2018), which is an addaptation of the methodlogy proposed for daily streamflow by Richter et al. (1996).\n",
    "\n",
    "In total there are 22 individual indicators, 5 group indices (MI-HRA), and a Global indice (GMI-HRA).\n",
    "\n",
    "References: Pumo, D., Francipane, A., Cannarozzo, M., Antinoro, C., Noto, L.V., 2018. Monthly hydrological indicators to assess possible alterations on rivers' flow regime. Water Resour. Manag.\n",
    "32, 3687–3706. https://doi.org/10.1007/s11269-018-2013-6.\n",
    "\n",
    "Richter, B.D., Baumgartner, J.V., Powell, J., Braun, D.P., 1996. A method for assessing hydrologic alteration within ecosystems. Conserv. Biol. 10, 1163–1174. https://doi.org/10.1046/j.1523-1739.1996.10041163.x.\n",
    "\n",
    "Developed by: Thiago Victor Medeiros do Nascimento"
   ]
  },
  {
   "cell_type": "markdown",
   "id": "b941e17f",
   "metadata": {},
   "source": [
    "##### Observations: \n",
    "\n",
    "You will need only two files: \n",
    "1. One xlsx with the natural streamflows organized with an index called preferable date with the dates, and each column representing one different station/sub-basin to be analyed.\n",
    "1. Similarly, one xlsx with the modified streamflows organized with an index called preferable date with the dates, and each column representing one different station/sub-basin to be analyed.\n",
    "\n",
    "##### In this example you have a only one station, but the code is ready for more. "
   ]
  },
  {
   "cell_type": "code",
   "execution_count": 1,
   "id": "4cc501d2",
   "metadata": {},
   "outputs": [],
   "source": [
    "import numpy as np\n",
    "import os\n",
    "import pandas as pd\n",
    "import datetime as dt"
   ]
  },
  {
   "cell_type": "code",
   "execution_count": 2,
   "id": "4366d9d7",
   "metadata": {},
   "outputs": [
    {
     "name": "stdout",
     "output_type": "stream",
     "text": [
      "Current Working Directory  C:\\Users\\User\\OneDrive\\IST\\RESEARCH\\python\\flowindicators\n"
     ]
    }
   ],
   "source": [
    "# Set and print your working directory\n",
    "\n",
    "os.chdir(r'C:\\Users\\User\\OneDrive\\IST\\RESEARCH\\python\\flowindicators')\n",
    "print(\"Current Working Directory \" , os.getcwd())"
   ]
  },
  {
   "cell_type": "code",
   "execution_count": 3,
   "id": "016c0180",
   "metadata": {},
   "outputs": [],
   "source": [
    "# Firstly one function is defined for the computation of the generic k-th indicator of hydrological alteration:\n",
    "def pik(Xn25ik, Xn75ik, Xpik):\n",
    "    if (Xpik >= Xn25ik) and (Xpik <= Xn75ik):\n",
    "        result = 0\n",
    "    else:\n",
    "        result = min(abs((Xpik - Xn25ik)/(Xn75ik - Xn25ik)), abs((Xpik - Xn75ik)/(Xn75ik - Xn25ik)))   \n",
    "    return result"
   ]
  },
  {
   "cell_type": "code",
   "execution_count": 4,
   "id": "57563a08",
   "metadata": {},
   "outputs": [],
   "source": [
    "# Read the xlsx file with your nonfilled data. This example provides data for four sub-basins and already separated in natural and modified conditions:\n",
    "path =r'C:\\Users\\User\\OneDrive\\IST\\RESEARCH\\python\\flowindicators\\cardeiratesenatural.xlsx'\n",
    "datanatural=pd.read_excel(path)\n",
    "datanatural.set_index(datanatural.date, inplace=True)\n",
    "datanatural[\"month\"] = datanatural.date.dt.month\n",
    "datanatural.drop(columns=['date'], inplace = True)  \n",
    "datanatural = datanatural.loc['10-01-1934':]\n",
    "\n",
    "path =r'C:\\Users\\User\\OneDrive\\IST\\RESEARCH\\python\\flowindicators\\cardeiratesemodificado.xlsx'\n",
    "datamodified=pd.read_excel(path)\n",
    "datamodified.set_index(datamodified.date, inplace=True)\n",
    "datamodified[\"month\"] = datamodified.date.dt.month\n",
    "datamodified.drop(columns=['date'], inplace = True)  "
   ]
  },
  {
   "cell_type": "code",
   "execution_count": 5,
   "id": "262a4f9b",
   "metadata": {},
   "outputs": [
    {
     "data": {
      "text/html": [
       "<div>\n",
       "<style scoped>\n",
       "    .dataframe tbody tr th:only-of-type {\n",
       "        vertical-align: middle;\n",
       "    }\n",
       "\n",
       "    .dataframe tbody tr th {\n",
       "        vertical-align: top;\n",
       "    }\n",
       "\n",
       "    .dataframe thead th {\n",
       "        text-align: right;\n",
       "    }\n",
       "</style>\n",
       "<table border=\"1\" class=\"dataframe\">\n",
       "  <thead>\n",
       "    <tr style=\"text-align: right;\">\n",
       "      <th></th>\n",
       "      <th>cardeiranatural</th>\n",
       "      <th>month</th>\n",
       "    </tr>\n",
       "    <tr>\n",
       "      <th>date</th>\n",
       "      <th></th>\n",
       "      <th></th>\n",
       "    </tr>\n",
       "  </thead>\n",
       "  <tbody>\n",
       "    <tr>\n",
       "      <th>1934-10-31</th>\n",
       "      <td>0.0</td>\n",
       "      <td>10</td>\n",
       "    </tr>\n",
       "    <tr>\n",
       "      <th>1934-11-30</th>\n",
       "      <td>0.0</td>\n",
       "      <td>11</td>\n",
       "    </tr>\n",
       "    <tr>\n",
       "      <th>1934-12-31</th>\n",
       "      <td>0.0</td>\n",
       "      <td>12</td>\n",
       "    </tr>\n",
       "    <tr>\n",
       "      <th>1935-01-31</th>\n",
       "      <td>0.0</td>\n",
       "      <td>1</td>\n",
       "    </tr>\n",
       "    <tr>\n",
       "      <th>1935-02-28</th>\n",
       "      <td>0.0</td>\n",
       "      <td>2</td>\n",
       "    </tr>\n",
       "  </tbody>\n",
       "</table>\n",
       "</div>"
      ],
      "text/plain": [
       "            cardeiranatural  month\n",
       "date                              \n",
       "1934-10-31              0.0     10\n",
       "1934-11-30              0.0     11\n",
       "1934-12-31              0.0     12\n",
       "1935-01-31              0.0      1\n",
       "1935-02-28              0.0      2"
      ]
     },
     "execution_count": 5,
     "metadata": {},
     "output_type": "execute_result"
    }
   ],
   "source": [
    "datanatural.head()"
   ]
  },
  {
   "cell_type": "code",
   "execution_count": 6,
   "id": "1c58775f",
   "metadata": {},
   "outputs": [
    {
     "data": {
      "text/html": [
       "<div>\n",
       "<style scoped>\n",
       "    .dataframe tbody tr th:only-of-type {\n",
       "        vertical-align: middle;\n",
       "    }\n",
       "\n",
       "    .dataframe tbody tr th {\n",
       "        vertical-align: top;\n",
       "    }\n",
       "\n",
       "    .dataframe thead th {\n",
       "        text-align: right;\n",
       "    }\n",
       "</style>\n",
       "<table border=\"1\" class=\"dataframe\">\n",
       "  <thead>\n",
       "    <tr style=\"text-align: right;\">\n",
       "      <th></th>\n",
       "      <th>cardeiramodificado</th>\n",
       "      <th>month</th>\n",
       "    </tr>\n",
       "    <tr>\n",
       "      <th>date</th>\n",
       "      <th></th>\n",
       "      <th></th>\n",
       "    </tr>\n",
       "  </thead>\n",
       "  <tbody>\n",
       "    <tr>\n",
       "      <th>2000-10-31</th>\n",
       "      <td>0.000000</td>\n",
       "      <td>10</td>\n",
       "    </tr>\n",
       "    <tr>\n",
       "      <th>2000-11-30</th>\n",
       "      <td>0.005653</td>\n",
       "      <td>11</td>\n",
       "    </tr>\n",
       "    <tr>\n",
       "      <th>2000-12-31</th>\n",
       "      <td>84.756966</td>\n",
       "      <td>12</td>\n",
       "    </tr>\n",
       "    <tr>\n",
       "      <th>2001-01-31</th>\n",
       "      <td>52.084089</td>\n",
       "      <td>1</td>\n",
       "    </tr>\n",
       "    <tr>\n",
       "      <th>2001-02-28</th>\n",
       "      <td>50.397121</td>\n",
       "      <td>2</td>\n",
       "    </tr>\n",
       "  </tbody>\n",
       "</table>\n",
       "</div>"
      ],
      "text/plain": [
       "            cardeiramodificado  month\n",
       "date                                 \n",
       "2000-10-31            0.000000     10\n",
       "2000-11-30            0.005653     11\n",
       "2000-12-31           84.756966     12\n",
       "2001-01-31           52.084089      1\n",
       "2001-02-28           50.397121      2"
      ]
     },
     "execution_count": 6,
     "metadata": {},
     "output_type": "execute_result"
    }
   ],
   "source": [
    "datamodified.head()"
   ]
  },
  {
   "cell_type": "code",
   "execution_count": 7,
   "id": "f133c31b",
   "metadata": {},
   "outputs": [
    {
     "name": "stdout",
     "output_type": "stream",
     "text": [
      "The number of stations used is:  1\n"
     ]
    }
   ],
   "source": [
    "# The number of sub-basins (stations) is computed:\n",
    "numstationsused = datanatural.shape[1]-1\n",
    "print(\"The number of stations used is: \", numstationsused)"
   ]
  },
  {
   "cell_type": "markdown",
   "id": "1aa4605c",
   "metadata": {},
   "source": [
    "### Individual indicators computation for each statistical group:"
   ]
  },
  {
   "cell_type": "markdown",
   "id": "aba58055",
   "metadata": {},
   "source": [
    "#### Magnitude timing (Group 1):"
   ]
  },
  {
   "cell_type": "code",
   "execution_count": 8,
   "id": "34e733ed",
   "metadata": {},
   "outputs": [
    {
     "data": {
      "text/html": [
       "<div>\n",
       "<style scoped>\n",
       "    .dataframe tbody tr th:only-of-type {\n",
       "        vertical-align: middle;\n",
       "    }\n",
       "\n",
       "    .dataframe tbody tr th {\n",
       "        vertical-align: top;\n",
       "    }\n",
       "\n",
       "    .dataframe thead th {\n",
       "        text-align: right;\n",
       "    }\n",
       "</style>\n",
       "<table border=\"1\" class=\"dataframe\">\n",
       "  <thead>\n",
       "    <tr style=\"text-align: right;\">\n",
       "      <th></th>\n",
       "      <th>cardeiranatural</th>\n",
       "    </tr>\n",
       "    <tr>\n",
       "      <th>month</th>\n",
       "      <th></th>\n",
       "    </tr>\n",
       "  </thead>\n",
       "  <tbody>\n",
       "    <tr>\n",
       "      <th>1</th>\n",
       "      <td>41.630130</td>\n",
       "    </tr>\n",
       "    <tr>\n",
       "      <th>2</th>\n",
       "      <td>31.611123</td>\n",
       "    </tr>\n",
       "    <tr>\n",
       "      <th>3</th>\n",
       "      <td>34.406334</td>\n",
       "    </tr>\n",
       "    <tr>\n",
       "      <th>4</th>\n",
       "      <td>6.961309</td>\n",
       "    </tr>\n",
       "    <tr>\n",
       "      <th>5</th>\n",
       "      <td>0.018896</td>\n",
       "    </tr>\n",
       "    <tr>\n",
       "      <th>6</th>\n",
       "      <td>0.000000</td>\n",
       "    </tr>\n",
       "    <tr>\n",
       "      <th>7</th>\n",
       "      <td>0.000000</td>\n",
       "    </tr>\n",
       "    <tr>\n",
       "      <th>8</th>\n",
       "      <td>0.000000</td>\n",
       "    </tr>\n",
       "    <tr>\n",
       "      <th>9</th>\n",
       "      <td>0.000000</td>\n",
       "    </tr>\n",
       "    <tr>\n",
       "      <th>10</th>\n",
       "      <td>0.014433</td>\n",
       "    </tr>\n",
       "    <tr>\n",
       "      <th>11</th>\n",
       "      <td>1.483901</td>\n",
       "    </tr>\n",
       "    <tr>\n",
       "      <th>12</th>\n",
       "      <td>36.380237</td>\n",
       "    </tr>\n",
       "  </tbody>\n",
       "</table>\n",
       "</div>"
      ],
      "text/plain": [
       "       cardeiranatural\n",
       "month                 \n",
       "1            41.630130\n",
       "2            31.611123\n",
       "3            34.406334\n",
       "4             6.961309\n",
       "5             0.018896\n",
       "6             0.000000\n",
       "7             0.000000\n",
       "8             0.000000\n",
       "9             0.000000\n",
       "10            0.014433\n",
       "11            1.483901\n",
       "12           36.380237"
      ]
     },
     "execution_count": 8,
     "metadata": {},
     "output_type": "execute_result"
    }
   ],
   "source": [
    "# Statistics (median and quantiles):\n",
    "MedianMonthlyStreamflow = datamodified.groupby('month',dropna=False).median()\n",
    "Quantile25MonthlyStreamflow = datanatural.groupby('month',dropna=False).quantile(q=0.25)\n",
    "Quantile75MonthlyStreamflow = datanatural.groupby('month',dropna=False).quantile(q=0.75)\n",
    "\n",
    "Quantile75MonthlyStreamflow"
   ]
  },
  {
   "cell_type": "code",
   "execution_count": 9,
   "id": "ff18ecb9",
   "metadata": {},
   "outputs": [],
   "source": [
    "# This is an empty table to be filled with the indicators for group 1:\n",
    "p1s = pd.DataFrame(index = Quantile75MonthlyStreamflow.index, columns = Quantile75MonthlyStreamflow.columns, data=np.zeros((12,numstationsused)))\n",
    "\n",
    "# The computation is made for each station (sub-basin):\n",
    "j = 0 \n",
    "for numstations in range(datanatural.shape[1]-1):\n",
    "    for k in range(12):\n",
    "        p1s.iloc[k,j] = pik(Quantile25MonthlyStreamflow.iloc[k,j], Quantile75MonthlyStreamflow.iloc[k,j], MedianMonthlyStreamflow.iloc[k,j])\n",
    "    j = j + 1"
   ]
  },
  {
   "cell_type": "code",
   "execution_count": 10,
   "id": "4a3c6e92",
   "metadata": {},
   "outputs": [
    {
     "data": {
      "text/html": [
       "<div>\n",
       "<style scoped>\n",
       "    .dataframe tbody tr th:only-of-type {\n",
       "        vertical-align: middle;\n",
       "    }\n",
       "\n",
       "    .dataframe tbody tr th {\n",
       "        vertical-align: top;\n",
       "    }\n",
       "\n",
       "    .dataframe thead th {\n",
       "        text-align: right;\n",
       "    }\n",
       "</style>\n",
       "<table border=\"1\" class=\"dataframe\">\n",
       "  <thead>\n",
       "    <tr style=\"text-align: right;\">\n",
       "      <th></th>\n",
       "      <th>cardeiranatural</th>\n",
       "    </tr>\n",
       "    <tr>\n",
       "      <th>month</th>\n",
       "      <th></th>\n",
       "    </tr>\n",
       "  </thead>\n",
       "  <tbody>\n",
       "    <tr>\n",
       "      <th>1</th>\n",
       "      <td>7.941688e-04</td>\n",
       "    </tr>\n",
       "    <tr>\n",
       "      <th>2</th>\n",
       "      <td>3.091875e-03</td>\n",
       "    </tr>\n",
       "    <tr>\n",
       "      <th>3</th>\n",
       "      <td>9.900915e-07</td>\n",
       "    </tr>\n",
       "    <tr>\n",
       "      <th>4</th>\n",
       "      <td>0.000000e+00</td>\n",
       "    </tr>\n",
       "    <tr>\n",
       "      <th>5</th>\n",
       "      <td>0.000000e+00</td>\n",
       "    </tr>\n",
       "    <tr>\n",
       "      <th>6</th>\n",
       "      <td>0.000000e+00</td>\n",
       "    </tr>\n",
       "    <tr>\n",
       "      <th>7</th>\n",
       "      <td>0.000000e+00</td>\n",
       "    </tr>\n",
       "    <tr>\n",
       "      <th>8</th>\n",
       "      <td>0.000000e+00</td>\n",
       "    </tr>\n",
       "    <tr>\n",
       "      <th>9</th>\n",
       "      <td>0.000000e+00</td>\n",
       "    </tr>\n",
       "    <tr>\n",
       "      <th>10</th>\n",
       "      <td>0.000000e+00</td>\n",
       "    </tr>\n",
       "    <tr>\n",
       "      <th>11</th>\n",
       "      <td>0.000000e+00</td>\n",
       "    </tr>\n",
       "    <tr>\n",
       "      <th>12</th>\n",
       "      <td>0.000000e+00</td>\n",
       "    </tr>\n",
       "  </tbody>\n",
       "</table>\n",
       "</div>"
      ],
      "text/plain": [
       "       cardeiranatural\n",
       "month                 \n",
       "1         7.941688e-04\n",
       "2         3.091875e-03\n",
       "3         9.900915e-07\n",
       "4         0.000000e+00\n",
       "5         0.000000e+00\n",
       "6         0.000000e+00\n",
       "7         0.000000e+00\n",
       "8         0.000000e+00\n",
       "9         0.000000e+00\n",
       "10        0.000000e+00\n",
       "11        0.000000e+00\n",
       "12        0.000000e+00"
      ]
     },
     "execution_count": 10,
     "metadata": {},
     "output_type": "execute_result"
    }
   ],
   "source": [
    "p1s"
   ]
  },
  {
   "cell_type": "code",
   "execution_count": 11,
   "id": "734210eb",
   "metadata": {},
   "outputs": [
    {
     "data": {
      "text/plain": [
       "cardeiranatural    0.000324\n",
       "dtype: float64"
      ]
     },
     "execution_count": 11,
     "metadata": {},
     "output_type": "execute_result"
    }
   ],
   "source": [
    "# Computation of the Group index (Group 1):\n",
    "MIhra1 = p1s.mean()\n",
    "MIhra1"
   ]
  },
  {
   "cell_type": "markdown",
   "id": "05016c47",
   "metadata": {},
   "source": [
    "#### Magnitude duration (Group 2):"
   ]
  },
  {
   "cell_type": "code",
   "execution_count": 12,
   "id": "7dada779",
   "metadata": {},
   "outputs": [],
   "source": [
    "# Statistics for 3-months:\n",
    "Months3flownat = datanatural.iloc[:,0:-1].resample('3M',closed='left').sum()\n",
    "Months3flowmod = datamodified.iloc[:,0:-1].resample('3M',closed='left').sum()\n",
    "\n",
    "# Computation of the water years for natural conditions:\n",
    "Months3flownat[\"datetime\"] = Months3flownat.index\n",
    "Months3flownat['water_year'] = Months3flownat.datetime.dt.year.where(Months3flownat.datetime.dt.month < 10, Months3flownat.datetime.dt.year + 1)\n",
    "# Correction of a small bug in the resample:\n",
    "Months3flownat['water_year'] = Months3flownat.water_year.where(Months3flownat.datetime.dt.month != 10, Months3flownat.water_year - 1)\n",
    "Months3flownat.drop(columns=['datetime'], inplace = True)\n",
    "\n",
    "# Computation of the water years for modified conditions:\n",
    "Months3flowmod[\"datetime\"] = Months3flowmod.index\n",
    "Months3flowmod['water_year'] = Months3flowmod.datetime.dt.year.where(Months3flowmod.datetime.dt.month < 10, Months3flowmod.datetime.dt.year + 1)\n",
    "# Correction of a small bug in the resample:\n",
    "Months3flowmod['water_year'] = Months3flowmod.water_year.where(Months3flowmod.datetime.dt.month != 10, Months3flowmod.water_year - 1)\n",
    "Months3flowmod.drop(columns=['datetime'], inplace = True)\n",
    "\n",
    "# Minimum and maximum for 3-months:\n",
    "AnnualMin3MonthsFlownat = Months3flownat.groupby('water_year',dropna=False).min()\n",
    "AnnualMax3MonthsFlownat = Months3flownat.groupby('water_year',dropna=False).max()\n",
    "\n",
    "AnnualMin3MonthsFlowmod = Months3flowmod.groupby('water_year',dropna=False).min()\n",
    "AnnualMax3MonthsFlowmod = Months3flowmod.groupby('water_year',dropna=False).max()"
   ]
  },
  {
   "cell_type": "code",
   "execution_count": 13,
   "id": "e807880a",
   "metadata": {},
   "outputs": [],
   "source": [
    "# Statistics for 6-months:\n",
    "Months6flownat = datanatural.iloc[:,0:-1].resample('6M',closed='left').sum()\n",
    "Months6flowmod = datamodified.iloc[:,0:-1].resample('6M',closed='left').sum()\n",
    "\n",
    "# Computation of the water years for natural conditions:\n",
    "Months6flownat[\"datetime\"] = Months6flownat.index\n",
    "Months6flownat['water_year'] = Months6flownat.datetime.dt.year.where(Months6flownat.datetime.dt.month < 10, Months6flownat.datetime.dt.year + 1)\n",
    "# Correction of a small bug in the resample:\n",
    "Months6flownat['water_year'] = Months6flownat.water_year.where(Months6flownat.datetime.dt.month != 10, Months6flownat.water_year - 1)\n",
    "Months6flownat.drop(columns=['datetime'], inplace = True)\n",
    "\n",
    "# Computation of the water years for modified conditions:\n",
    "Months6flowmod[\"datetime\"] = Months6flowmod.index\n",
    "Months6flowmod['water_year'] = Months6flowmod.datetime.dt.year.where(Months6flowmod.datetime.dt.month < 10, Months6flowmod.datetime.dt.year + 1)\n",
    "# Correction of a small bug in the resample:\n",
    "Months6flowmod['water_year'] = Months6flowmod.water_year.where(Months6flowmod.datetime.dt.month != 10, Months6flowmod.water_year - 1)\n",
    "Months6flowmod.drop(columns=['datetime'], inplace = True)\n",
    "\n",
    "# Minimum and maximum for 6-months:\n",
    "AnnualMin6MonthsFlownat = Months6flownat.groupby('water_year',dropna=False).min()\n",
    "AnnualMax6MonthsFlownat = Months6flownat.groupby('water_year',dropna=False).max()\n",
    "\n",
    "AnnualMin6MonthsFlowmod = Months6flowmod.groupby('water_year',dropna=False).min()\n",
    "AnnualMax6MonthsFlowmod = Months6flowmod.groupby('water_year',dropna=False).max()"
   ]
  },
  {
   "cell_type": "code",
   "execution_count": 14,
   "id": "c01bbe79",
   "metadata": {},
   "outputs": [],
   "source": [
    "# Computation of the median and quantiles:\n",
    "## First empty data frames for each case are made:\n",
    "MedianAnnualMinMax2 = pd.DataFrame(index = [\"Min3months\",\"Max3months\",\"Min6months\",\"Max6months\"], columns = AnnualMax6MonthsFlownat.columns)\n",
    "Quantile25AnnualMinMax2 = pd.DataFrame(index = [\"Min3months\",\"Max3months\",\"Min6months\",\"Max6months\"], columns = AnnualMax6MonthsFlownat.columns)\n",
    "Quantile75AnnualMinMax2 = pd.DataFrame(index = [\"Min3months\",\"Max3months\",\"Min6months\",\"Max6months\"], columns = AnnualMax6MonthsFlownat.columns)\n",
    "\n",
    "# The median is computed only for the modified streamflow:\n",
    "MedianAnnualMinMax2.iloc[0,:] = AnnualMin3MonthsFlowmod.median()\n",
    "MedianAnnualMinMax2.iloc[1,:] = AnnualMax3MonthsFlowmod.median()\n",
    "MedianAnnualMinMax2.iloc[2,:] = AnnualMin6MonthsFlowmod.median()\n",
    "MedianAnnualMinMax2.iloc[3,:] = AnnualMax6MonthsFlowmod.median()\n",
    "\n",
    "# The quantiles are computed only for the natural streamflow:\n",
    "Quantile25AnnualMinMax2.iloc[0,:] = AnnualMin3MonthsFlownat.quantile(q=0.25)\n",
    "Quantile25AnnualMinMax2.iloc[1,:] = AnnualMax3MonthsFlownat.quantile(q=0.25)\n",
    "Quantile25AnnualMinMax2.iloc[2,:] = AnnualMin6MonthsFlownat.quantile(q=0.25)\n",
    "Quantile25AnnualMinMax2.iloc[3,:] = AnnualMax6MonthsFlownat.quantile(q=0.25)\n",
    "\n",
    "Quantile75AnnualMinMax2.iloc[0,:] = AnnualMin3MonthsFlownat.quantile(q=0.75)\n",
    "Quantile75AnnualMinMax2.iloc[1,:] = AnnualMax3MonthsFlownat.quantile(q=0.75)\n",
    "Quantile75AnnualMinMax2.iloc[2,:] = AnnualMin6MonthsFlownat.quantile(q=0.75)\n",
    "Quantile75AnnualMinMax2.iloc[3,:] = AnnualMax6MonthsFlownat.quantile(q=0.75)"
   ]
  },
  {
   "cell_type": "code",
   "execution_count": 15,
   "id": "30934a7e",
   "metadata": {},
   "outputs": [],
   "source": [
    "# This is an empty table to be filled with the indicators for group 2:\n",
    "p2s = pd.DataFrame(index = Quantile75AnnualMinMax2.index, columns = Quantile75MonthlyStreamflow.columns, data=np.nan)\n",
    "\n",
    "# Loop for computing for each station:\n",
    "j = 0 \n",
    "for numstations in range(numstationsused):\n",
    "    for k in range(4):\n",
    "        p2s.iloc[k,j] = pik(Quantile25AnnualMinMax2.iloc[k,j], Quantile75AnnualMinMax2.iloc[k,j], MedianAnnualMinMax2.iloc[k,j])\n",
    "    j = j + 1"
   ]
  },
  {
   "cell_type": "code",
   "execution_count": 16,
   "id": "7c44692f",
   "metadata": {},
   "outputs": [
    {
     "data": {
      "text/html": [
       "<div>\n",
       "<style scoped>\n",
       "    .dataframe tbody tr th:only-of-type {\n",
       "        vertical-align: middle;\n",
       "    }\n",
       "\n",
       "    .dataframe tbody tr th {\n",
       "        vertical-align: top;\n",
       "    }\n",
       "\n",
       "    .dataframe thead th {\n",
       "        text-align: right;\n",
       "    }\n",
       "</style>\n",
       "<table border=\"1\" class=\"dataframe\">\n",
       "  <thead>\n",
       "    <tr style=\"text-align: right;\">\n",
       "      <th></th>\n",
       "      <th>cardeiranatural</th>\n",
       "    </tr>\n",
       "  </thead>\n",
       "  <tbody>\n",
       "    <tr>\n",
       "      <th>Min3months</th>\n",
       "      <td>0.000000</td>\n",
       "    </tr>\n",
       "    <tr>\n",
       "      <th>Max3months</th>\n",
       "      <td>0.167737</td>\n",
       "    </tr>\n",
       "    <tr>\n",
       "      <th>Min6months</th>\n",
       "      <td>0.000039</td>\n",
       "    </tr>\n",
       "    <tr>\n",
       "      <th>Max6months</th>\n",
       "      <td>0.128157</td>\n",
       "    </tr>\n",
       "  </tbody>\n",
       "</table>\n",
       "</div>"
      ],
      "text/plain": [
       "            cardeiranatural\n",
       "Min3months         0.000000\n",
       "Max3months         0.167737\n",
       "Min6months         0.000039\n",
       "Max6months         0.128157"
      ]
     },
     "execution_count": 16,
     "metadata": {},
     "output_type": "execute_result"
    }
   ],
   "source": [
    "p2s"
   ]
  },
  {
   "cell_type": "code",
   "execution_count": 17,
   "id": "17665624",
   "metadata": {},
   "outputs": [
    {
     "data": {
      "text/plain": [
       "cardeiranatural    0.073983\n",
       "dtype: float64"
      ]
     },
     "execution_count": 17,
     "metadata": {},
     "output_type": "execute_result"
    }
   ],
   "source": [
    "# Computation of the Group index (Group 2):\n",
    "MIhra2 = p2s.mean()\n",
    "MIhra2"
   ]
  },
  {
   "cell_type": "markdown",
   "id": "56b7e2ee",
   "metadata": {},
   "source": [
    "#### Timing (Group 3):"
   ]
  },
  {
   "cell_type": "code",
   "execution_count": 18,
   "id": "5f5a4218",
   "metadata": {},
   "outputs": [],
   "source": [
    "# Cliping the data to be used:\n",
    "datanatural3 = pd.DataFrame(data= datanatural.drop(columns = \"month\"))\n",
    "datamodified3 = pd.DataFrame(data= datamodified.drop(columns = \"month\"))\n",
    "\n",
    "# Computation of the water years for natural condition:\n",
    "datanatural3[\"datetime\"] = datanatural3.index\n",
    "datanatural3['water_year'] = datanatural3.datetime.dt.year.where(datanatural3.datetime.dt.month < 10, datanatural3.datetime.dt.year + 1)\n",
    "datanatural3.drop(columns=['datetime'], inplace = True)\n",
    "\n",
    "# Computation of the water years for modified condition:\n",
    "datamodified3[\"datetime\"] = datamodified3.index\n",
    "datamodified3['water_year'] = datamodified3.datetime.dt.year.where(datamodified3.datetime.dt.month < 10, datamodified3.datetime.dt.year + 1)\n",
    "datamodified3.drop(columns=['datetime'], inplace = True)\n",
    "\n",
    "# The ID (location) of each minimum or maximum is computed:\n",
    "Mininumslocationnatural = datanatural3.groupby('water_year',dropna=False).idxmin()\n",
    "Maximumslocationnatural = datanatural3.groupby('water_year',dropna=False).idxmax()\n",
    "Mininumslocationmodified = datamodified3.groupby('water_year',dropna=False).idxmin()\n",
    "Maximumslocationmodified= datamodified3.groupby('water_year',dropna=False).idxmax()"
   ]
  },
  {
   "cell_type": "code",
   "execution_count": 19,
   "id": "bfb733ef",
   "metadata": {},
   "outputs": [],
   "source": [
    "# Empty tables to be filled with the actual month of each extreme are built:\n",
    "# Natural:\n",
    "MininumslocationMonthnatural = pd.DataFrame(index = Mininumslocationnatural.index, columns = Mininumslocationnatural.columns)\n",
    "MaximumlocationMonthnatural = pd.DataFrame(index = Mininumslocationnatural.index, columns = Mininumslocationnatural.columns)\n",
    "\n",
    "# Modified:\n",
    "MininumslocationMonthmodified = pd.DataFrame(index = Mininumslocationmodified.index, columns = Mininumslocationmodified.columns)\n",
    "MaximumlocationMonthmodified = pd.DataFrame(index = Mininumslocationmodified.index, columns = Mininumslocationmodified.columns)\n",
    "\n",
    "# The month of each specific event (maximum and minimum) is computed:\n",
    "for i in range(numstationsused):\n",
    "    MininumslocationMonthnatural.iloc[:,i] = Mininumslocationnatural.iloc[:,i].dt.month\n",
    "    MaximumlocationMonthnatural.iloc[:,i] = Maximumslocationnatural.iloc[:,i].dt.month\n",
    "    MininumslocationMonthmodified.iloc[:,i] = Mininumslocationmodified.iloc[:,i].dt.month\n",
    "    MaximumlocationMonthmodified.iloc[:,i] = Maximumslocationmodified.iloc[:,i].dt.month\n",
    "\n",
    "\n",
    "# Replace the months according to the classification of the paper used: (May = 1 until April = 12)\n",
    "MininumslocationMonthnatural.replace([5, 6, 7, 8, 9, 10, 11, 12, 1, 2, 3, 4], [1, 2, 3, 4, 5, 6, 7, 8, 9, 10, 11, 12], inplace = True)\n",
    "MaximumlocationMonthnatural.replace([5, 6, 7, 8, 9, 10, 11, 12, 1, 2, 3, 4], [1, 2, 3, 4, 5, 6, 7, 8, 9, 10, 11, 12], inplace = True)\n",
    "MininumslocationMonthmodified.replace([5, 6, 7, 8, 9, 10, 11, 12, 1, 2, 3, 4], [1, 2, 3, 4, 5, 6, 7, 8, 9, 10, 11, 12], inplace = True)\n",
    "MaximumlocationMonthmodified.replace([5, 6, 7, 8, 9, 10, 11, 12, 1, 2, 3, 4], [1, 2, 3, 4, 5, 6, 7, 8, 9, 10, 11, 12], inplace = True)"
   ]
  },
  {
   "cell_type": "code",
   "execution_count": 20,
   "id": "3d3cbd1e",
   "metadata": {},
   "outputs": [],
   "source": [
    "# Computation of the median and quantiles:\n",
    "## First empty data frames for each case are made:\n",
    "MedianMonths = pd.DataFrame(index = [\"Min\",\"Max\"], columns = MininumslocationMonthmodified.columns)\n",
    "Quantile25Months = pd.DataFrame(index = [\"Min\",\"Max\"], columns = MininumslocationMonthnatural.columns)\n",
    "Quantile75Months = pd.DataFrame(index = [\"Min\",\"Max\"], columns = MininumslocationMonthnatural.columns)\n",
    "\n",
    "# The median(mode) is computed only for the modified streamflow:\n",
    "MedianMonths.iloc[0,:] = MininumslocationMonthmodified.mode(dropna=False).max()\n",
    "MedianMonths.iloc[1,:] = MaximumlocationMonthmodified.mode(dropna=False).max()\n",
    "\n",
    "\n",
    "# The quantiles are computed only for the natural streamflow:\n",
    "Quantile25Months.iloc[0,:] = MininumslocationMonthnatural.quantile(q=0.25)\n",
    "Quantile25Months.iloc[1,:] = MaximumlocationMonthnatural.quantile(q=0.25)\n",
    "\n",
    "Quantile75Months.iloc[0,:] = MininumslocationMonthnatural.quantile(q=0.75)\n",
    "Quantile75Months.iloc[1,:] = MaximumlocationMonthnatural.quantile(q=0.75)"
   ]
  },
  {
   "cell_type": "code",
   "execution_count": 21,
   "id": "771704ae",
   "metadata": {},
   "outputs": [],
   "source": [
    "# This is an empty table to be filled with the indicators for group 3:\n",
    "p3s = pd.DataFrame(index = Quantile25Months.index, columns = Quantile25Months.columns, data=np.nan)\n",
    "\n",
    "# Loop for computing for each station:\n",
    "j = 0 \n",
    "for numstations in range(numstationsused):\n",
    "    for k in range(2):\n",
    "        p3s.iloc[k,j] = pik(Quantile25Months.iloc[k,j], Quantile75Months.iloc[k,j], MedianMonths.iloc[k,j])\n",
    "    j = j + 1"
   ]
  },
  {
   "cell_type": "code",
   "execution_count": 22,
   "id": "b9ddb890",
   "metadata": {},
   "outputs": [
    {
     "data": {
      "text/html": [
       "<div>\n",
       "<style scoped>\n",
       "    .dataframe tbody tr th:only-of-type {\n",
       "        vertical-align: middle;\n",
       "    }\n",
       "\n",
       "    .dataframe tbody tr th {\n",
       "        vertical-align: top;\n",
       "    }\n",
       "\n",
       "    .dataframe thead th {\n",
       "        text-align: right;\n",
       "    }\n",
       "</style>\n",
       "<table border=\"1\" class=\"dataframe\">\n",
       "  <thead>\n",
       "    <tr style=\"text-align: right;\">\n",
       "      <th></th>\n",
       "      <th>cardeiranatural</th>\n",
       "    </tr>\n",
       "  </thead>\n",
       "  <tbody>\n",
       "    <tr>\n",
       "      <th>Min</th>\n",
       "      <td>0.000000</td>\n",
       "    </tr>\n",
       "    <tr>\n",
       "      <th>Max</th>\n",
       "      <td>0.666667</td>\n",
       "    </tr>\n",
       "  </tbody>\n",
       "</table>\n",
       "</div>"
      ],
      "text/plain": [
       "     cardeiranatural\n",
       "Min         0.000000\n",
       "Max         0.666667"
      ]
     },
     "execution_count": 22,
     "metadata": {},
     "output_type": "execute_result"
    }
   ],
   "source": [
    "p3s"
   ]
  },
  {
   "cell_type": "code",
   "execution_count": 23,
   "id": "f8cb2a4f",
   "metadata": {},
   "outputs": [
    {
     "data": {
      "text/plain": [
       "cardeiranatural    0.333333\n",
       "dtype: float64"
      ]
     },
     "execution_count": 23,
     "metadata": {},
     "output_type": "execute_result"
    }
   ],
   "source": [
    "# Computation of the Group index (Group 5):\n",
    "MIhra3 = p3s.mean()\n",
    "MIhra3"
   ]
  },
  {
   "cell_type": "markdown",
   "id": "dadeadac",
   "metadata": {},
   "source": [
    "#### Magnitude frequency (Group 4):"
   ]
  },
  {
   "cell_type": "code",
   "execution_count": 24,
   "id": "d992d8a9",
   "metadata": {},
   "outputs": [],
   "source": [
    "# The quantiles 10% and 90% are computed:\n",
    "Quantile10Streamflow = datanatural.iloc[:,0:-1].quantile(q=0.10)\n",
    "Quantile90Streamflow = datanatural.iloc[:,0:-1].quantile(q=0.90)\n",
    "\n",
    "datanatural4 = datanatural.drop(columns = \"month\")\n",
    "datamodified4 = datamodified.drop(columns = \"month\")\n",
    "\n",
    "# Creating empty tables for data filling:\n",
    "condlowpulsesnat = pd.DataFrame(index = datanatural4.index, columns = datanatural4.columns, data=np.nan)\n",
    "condhighpulsesnat = pd.DataFrame(index = datanatural4.index, columns = datanatural4.columns, data=np.nan)\n",
    "condlowpulsesmod = pd.DataFrame(index = datamodified4.index, columns = datamodified4.columns, data=np.nan)\n",
    "condhighpulsesmod = pd.DataFrame(index = datamodified4.index, columns = datamodified4.columns, data=np.nan)\n",
    "\n",
    "for i in range(numstationsused):\n",
    "    condlowpulsesnat.iloc[:,i] = np.where((datanatural4.iloc[:,i] < Quantile10Streamflow[i]),1,0)\n",
    "    condhighpulsesnat.iloc[:,i] = np.where((datanatural4.iloc[:,i] > Quantile90Streamflow[i]),1,0)\n",
    "    condlowpulsesmod.iloc[:,i] = np.where((datamodified4.iloc[:,i] < Quantile10Streamflow[i]),1,0)\n",
    "    condhighpulsesmod.iloc[:,i] = np.where((datamodified4.iloc[:,i] > Quantile90Streamflow[i]),1,0)\n",
    "\n",
    "# Computing the number of months per year:\n",
    "condlowpulsesnat[\"datetime\"] = condlowpulsesnat.index\n",
    "\n",
    "# Computation of water-years:\n",
    "condlowpulsesnat['year'] = condlowpulsesnat.datetime.dt.year.where(condlowpulsesnat.datetime.dt.month < 10, condlowpulsesnat.datetime.dt.year + 1)\n",
    "condhighpulsesnat['year'] = condlowpulsesnat['year']\n",
    "condlowpulsesmod['year'] = condlowpulsesnat['year']\n",
    "condhighpulsesmod['year'] = condlowpulsesnat['year']\n",
    "\n",
    "condlowpulsesnat.drop(columns=['datetime'], inplace = True)  "
   ]
  },
  {
   "cell_type": "code",
   "execution_count": 25,
   "id": "7f3dc37d",
   "metadata": {},
   "outputs": [],
   "source": [
    "# The total number of low and high pulses are computed for each situation:\n",
    "lowpulsesnat = condlowpulsesnat.groupby('year',dropna=False).sum()\n",
    "highpulsesnat = condhighpulsesnat.groupby('year',dropna=False).sum()\n",
    "lowpulsesmod = condlowpulsesmod.groupby('year',dropna=False).sum()\n",
    "highpulsesmod = condhighpulsesmod.groupby('year',dropna=False).sum()"
   ]
  },
  {
   "cell_type": "code",
   "execution_count": 26,
   "id": "d4e5cb4f",
   "metadata": {},
   "outputs": [],
   "source": [
    "# Computation of the median and quantiles:\n",
    "## First empty data frames for each case are made:\n",
    "MedianLowAndHighPulses = pd.DataFrame(index = [\"lowpulses\",\"highpulses\"], columns = lowpulsesmod.columns)\n",
    "Quantile25LowAndHighPulses = pd.DataFrame(index = [\"lowpulses\",\"highpulses\"], columns = lowpulsesnat.columns)\n",
    "Quantile75LowAndHighPulses = pd.DataFrame(index = [\"lowpulses\",\"highpulses\"], columns = lowpulsesnat.columns)\n",
    "\n",
    "# The median is computed only for the modified streamflow:\n",
    "MedianLowAndHighPulses.iloc[0,:] = lowpulsesmod.median()\n",
    "MedianLowAndHighPulses.iloc[1,:] = highpulsesmod.median()\n",
    "\n",
    "\n",
    "# The quantiles are computed only for the natural streamflow:\n",
    "Quantile25LowAndHighPulses.iloc[0,:] = lowpulsesnat.quantile(q=0.25)\n",
    "Quantile25LowAndHighPulses.iloc[1,:] = highpulsesnat.quantile(q=0.25)\n",
    "\n",
    "Quantile75LowAndHighPulses.iloc[0,:] = lowpulsesnat.quantile(q=0.75)\n",
    "Quantile75LowAndHighPulses.iloc[1,:] = highpulsesnat.quantile(q=0.75)"
   ]
  },
  {
   "cell_type": "code",
   "execution_count": 27,
   "id": "e32a74f9",
   "metadata": {},
   "outputs": [],
   "source": [
    "# This is an empty table to be filled with the indicators for group 4:\n",
    "p4s = pd.DataFrame(index = Quantile25LowAndHighPulses.index, columns = Quantile25LowAndHighPulses.columns, data=np.nan)\n",
    "\n",
    "# Loop for computing for each station:\n",
    "j = 0 \n",
    "for numstations in range(numstationsused):\n",
    "    for k in range(2):\n",
    "        p4s.iloc[k,j] = pik(Quantile25LowAndHighPulses.iloc[k,j], Quantile75LowAndHighPulses.iloc[k,j], MedianLowAndHighPulses.iloc[k,j])\n",
    "    j = j + 1"
   ]
  },
  {
   "cell_type": "code",
   "execution_count": 28,
   "id": "5fc324b2",
   "metadata": {},
   "outputs": [
    {
     "data": {
      "text/html": [
       "<div>\n",
       "<style scoped>\n",
       "    .dataframe tbody tr th:only-of-type {\n",
       "        vertical-align: middle;\n",
       "    }\n",
       "\n",
       "    .dataframe tbody tr th {\n",
       "        vertical-align: top;\n",
       "    }\n",
       "\n",
       "    .dataframe thead th {\n",
       "        text-align: right;\n",
       "    }\n",
       "</style>\n",
       "<table border=\"1\" class=\"dataframe\">\n",
       "  <thead>\n",
       "    <tr style=\"text-align: right;\">\n",
       "      <th></th>\n",
       "      <th>cardeiranatural</th>\n",
       "    </tr>\n",
       "  </thead>\n",
       "  <tbody>\n",
       "    <tr>\n",
       "      <th>lowpulses</th>\n",
       "      <td>0.0</td>\n",
       "    </tr>\n",
       "    <tr>\n",
       "      <th>highpulses</th>\n",
       "      <td>2.0</td>\n",
       "    </tr>\n",
       "  </tbody>\n",
       "</table>\n",
       "</div>"
      ],
      "text/plain": [
       "            cardeiranatural\n",
       "lowpulses               0.0\n",
       "highpulses              2.0"
      ]
     },
     "execution_count": 28,
     "metadata": {},
     "output_type": "execute_result"
    }
   ],
   "source": [
    "p4s"
   ]
  },
  {
   "cell_type": "code",
   "execution_count": 29,
   "id": "d8a5c37f",
   "metadata": {},
   "outputs": [
    {
     "data": {
      "text/plain": [
       "cardeiranatural    1.0\n",
       "dtype: float64"
      ]
     },
     "execution_count": 29,
     "metadata": {},
     "output_type": "execute_result"
    }
   ],
   "source": [
    "# Computation of the Group index (Group 5):\n",
    "MIhra4 = p4s.mean()\n",
    "MIhra4"
   ]
  },
  {
   "cell_type": "markdown",
   "id": "7ff17a78",
   "metadata": {},
   "source": [
    "#### Frequency rate of change (Group 5):"
   ]
  },
  {
   "cell_type": "code",
   "execution_count": 30,
   "id": "d5a25cc2",
   "metadata": {},
   "outputs": [],
   "source": [
    "# Statistics:\n",
    "# Obtain the data without the month within:\n",
    "datanatural5 = datanatural.drop(columns = \"month\")\n",
    "datamodified5 = datamodified.drop(columns = \"month\")\n",
    "# Cumulative differences: \n",
    "diffnatural = datanatural5.diff(1)\n",
    "diffmodififed = datamodified5.diff(1)\n",
    "\n",
    "# Compute separatly the positive and the negative differences:\n",
    "diffnaturalpositives = diffnatural[diffnatural>=0]\n",
    "diffnaturalnegatives = diffnatural[diffnatural<0]\n",
    "\n",
    "diffmodifiedpositives = diffmodififed[diffmodififed>=0]\n",
    "diffmodifiednegatives = diffmodififed[diffmodififed<0]\n",
    "\n",
    "# Computation of the median and quantiles:\n",
    "## First empty data frames for each case are made:\n",
    "MedianDifferences = pd.DataFrame(index = [\"positives\",\"negatives\"], columns = diffmodifiednegatives.columns)\n",
    "Quantile25Differences = pd.DataFrame(index = [\"positives\",\"negatives\"], columns = diffnaturalpositives.columns)\n",
    "Quantile75Differences = pd.DataFrame(index = [\"positives\",\"negatives\"], columns = diffnaturalpositives.columns)\n",
    "\n",
    "# The median is computed only for the modified streamflow:\n",
    "MedianDifferences.iloc[0,:] = diffmodifiedpositives.median(skipna=True)\n",
    "MedianDifferences.iloc[1,:] = diffmodifiednegatives.median(skipna=True)\n",
    "\n",
    "# The quantiles are computed only for the natural streamflow:\n",
    "Quantile25Differences.iloc[0,:] = diffnaturalpositives.quantile(q=0.25)\n",
    "Quantile25Differences.iloc[1,:] = diffnaturalnegatives.quantile(q=0.25)\n",
    "\n",
    "Quantile75Differences.iloc[0,:] = diffnaturalpositives.quantile(q=0.75)\n",
    "Quantile75Differences.iloc[1,:] = diffnaturalnegatives.quantile(q=0.75)"
   ]
  },
  {
   "cell_type": "code",
   "execution_count": 31,
   "id": "b11df481",
   "metadata": {},
   "outputs": [],
   "source": [
    "# This is an empty table to be filled with the indicators for group 5:\n",
    "p5s = pd.DataFrame(index = Quantile25Differences.index, columns = Quantile25Differences.columns, data=np.nan)\n",
    "\n",
    "# Loop for computing for each station:\n",
    "j = 0 \n",
    "for numstations in range(numstationsused):\n",
    "    for k in range(2):\n",
    "        p5s.iloc[k,j] = pik(Quantile25Differences.iloc[k,j], Quantile75Differences.iloc[k,j], MedianDifferences.iloc[k,j])\n",
    "    j = j + 1"
   ]
  },
  {
   "cell_type": "code",
   "execution_count": 32,
   "id": "b046627e",
   "metadata": {},
   "outputs": [
    {
     "data": {
      "text/html": [
       "<div>\n",
       "<style scoped>\n",
       "    .dataframe tbody tr th:only-of-type {\n",
       "        vertical-align: middle;\n",
       "    }\n",
       "\n",
       "    .dataframe tbody tr th {\n",
       "        vertical-align: top;\n",
       "    }\n",
       "\n",
       "    .dataframe thead th {\n",
       "        text-align: right;\n",
       "    }\n",
       "</style>\n",
       "<table border=\"1\" class=\"dataframe\">\n",
       "  <thead>\n",
       "    <tr style=\"text-align: right;\">\n",
       "      <th></th>\n",
       "      <th>cardeiranatural</th>\n",
       "    </tr>\n",
       "  </thead>\n",
       "  <tbody>\n",
       "    <tr>\n",
       "      <th>positives</th>\n",
       "      <td>0.0</td>\n",
       "    </tr>\n",
       "    <tr>\n",
       "      <th>negatives</th>\n",
       "      <td>0.0</td>\n",
       "    </tr>\n",
       "  </tbody>\n",
       "</table>\n",
       "</div>"
      ],
      "text/plain": [
       "           cardeiranatural\n",
       "positives              0.0\n",
       "negatives              0.0"
      ]
     },
     "execution_count": 32,
     "metadata": {},
     "output_type": "execute_result"
    }
   ],
   "source": [
    "p5s"
   ]
  },
  {
   "cell_type": "code",
   "execution_count": 33,
   "id": "ab095adf",
   "metadata": {},
   "outputs": [
    {
     "data": {
      "text/plain": [
       "cardeiranatural    0.0\n",
       "dtype: float64"
      ]
     },
     "execution_count": 33,
     "metadata": {},
     "output_type": "execute_result"
    }
   ],
   "source": [
    "# Computation of the Group index (Group 5):\n",
    "MIhra5 = p5s.mean()\n",
    "MIhra5"
   ]
  },
  {
   "cell_type": "markdown",
   "id": "b80191fd",
   "metadata": {},
   "source": [
    "#### Concatetanion of all the group indices in one single table:"
   ]
  },
  {
   "cell_type": "code",
   "execution_count": 34,
   "id": "7d110d88",
   "metadata": {},
   "outputs": [
    {
     "data": {
      "text/html": [
       "<div>\n",
       "<style scoped>\n",
       "    .dataframe tbody tr th:only-of-type {\n",
       "        vertical-align: middle;\n",
       "    }\n",
       "\n",
       "    .dataframe tbody tr th {\n",
       "        vertical-align: top;\n",
       "    }\n",
       "\n",
       "    .dataframe thead th {\n",
       "        text-align: right;\n",
       "    }\n",
       "</style>\n",
       "<table border=\"1\" class=\"dataframe\">\n",
       "  <thead>\n",
       "    <tr style=\"text-align: right;\">\n",
       "      <th></th>\n",
       "      <th>MI-HRA1</th>\n",
       "      <th>MI-HRA2</th>\n",
       "      <th>MI-HRA3</th>\n",
       "      <th>MI-HRA4</th>\n",
       "      <th>MI-HRA5</th>\n",
       "    </tr>\n",
       "  </thead>\n",
       "  <tbody>\n",
       "    <tr>\n",
       "      <th>cardeiranatural</th>\n",
       "      <td>0.000324</td>\n",
       "      <td>0.073983</td>\n",
       "      <td>0.333333</td>\n",
       "      <td>1.0</td>\n",
       "      <td>0.0</td>\n",
       "    </tr>\n",
       "  </tbody>\n",
       "</table>\n",
       "</div>"
      ],
      "text/plain": [
       "                  MI-HRA1   MI-HRA2   MI-HRA3  MI-HRA4  MI-HRA5\n",
       "cardeiranatural  0.000324  0.073983  0.333333      1.0      0.0"
      ]
     },
     "execution_count": 34,
     "metadata": {},
     "output_type": "execute_result"
    }
   ],
   "source": [
    "MIhra = pd.DataFrame(index = MIhra5.index, columns =[\"MI-HRA1\",\"MI-HRA2\", \"MI-HRA3\", \"MI-HRA4\", \"MI-HRA5\"], data = pd.concat([MIhra1,MIhra2,MIhra3,MIhra4,MIhra5], axis = 1) .values )\n",
    "MIhra"
   ]
  },
  {
   "cell_type": "markdown",
   "id": "50013cf8",
   "metadata": {},
   "source": [
    "### Computation of the Global index (HMI-HRA):"
   ]
  },
  {
   "cell_type": "code",
   "execution_count": 35,
   "id": "22c37f6f",
   "metadata": {},
   "outputs": [
    {
     "data": {
      "text/html": [
       "<div>\n",
       "<style scoped>\n",
       "    .dataframe tbody tr th:only-of-type {\n",
       "        vertical-align: middle;\n",
       "    }\n",
       "\n",
       "    .dataframe tbody tr th {\n",
       "        vertical-align: top;\n",
       "    }\n",
       "\n",
       "    .dataframe thead th {\n",
       "        text-align: right;\n",
       "    }\n",
       "</style>\n",
       "<table border=\"1\" class=\"dataframe\">\n",
       "  <thead>\n",
       "    <tr style=\"text-align: right;\">\n",
       "      <th></th>\n",
       "      <th>GMI-HRA</th>\n",
       "    </tr>\n",
       "  </thead>\n",
       "  <tbody>\n",
       "    <tr>\n",
       "      <th>cardeiranatural</th>\n",
       "      <td>0.13484</td>\n",
       "    </tr>\n",
       "  </tbody>\n",
       "</table>\n",
       "</div>"
      ],
      "text/plain": [
       "                 GMI-HRA\n",
       "cardeiranatural  0.13484"
      ]
     },
     "execution_count": 35,
     "metadata": {},
     "output_type": "execute_result"
    }
   ],
   "source": [
    "#Weights (wis) of each index. They represent the number of indicatores per group:\n",
    "wistable = [12,4,2,2,2]\n",
    "\n",
    "# Now we proceed with a matrix multiplication:\n",
    "wisarraey = np.array(wistable)\n",
    "mihrasarray = np.array(MIhra.values)\n",
    "# Finally one DataFrame with the Global indexes is computed:\n",
    "GMIs = pd.DataFrame(index =MIhra5.index, columns = [\"GMI-HRA\"], data = (np.dot(mihrasarray,np.transpose(wisarraey)))/(22))\n",
    "GMIs"
   ]
  }
 ],
 "metadata": {
  "kernelspec": {
   "display_name": "Python 3 (ipykernel)",
   "language": "python",
   "name": "python3"
  },
  "language_info": {
   "codemirror_mode": {
    "name": "ipython",
    "version": 3
   },
   "file_extension": ".py",
   "mimetype": "text/x-python",
   "name": "python",
   "nbconvert_exporter": "python",
   "pygments_lexer": "ipython3",
   "version": "3.10.2"
  }
 },
 "nbformat": 4,
 "nbformat_minor": 5
}
